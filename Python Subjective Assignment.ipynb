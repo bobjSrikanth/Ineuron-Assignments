{
 "cells": [
  {
   "cell_type": "markdown",
   "metadata": {},
   "source": [
    "<h3>Q1. Write a Python program to get the string from the given string where all the occurrence of its first char has been changed to '\\$,' except first char itself?</h3><br/> \n",
    "Sample String: 'prospect' <br/>\n",
    "Expected Result : 'pros$ect'"
   ]
  },
  {
   "cell_type": "code",
   "execution_count": 4,
   "metadata": {},
   "outputs": [],
   "source": [
    "def replace_all_except_first(input, replacement):\n",
    "    reference = input[0]\n",
    "    input = input.replace(reference, replacement)\n",
    "    output = reference + input[1:]\n",
    "    return output            "
   ]
  },
  {
   "cell_type": "code",
   "execution_count": 5,
   "metadata": {},
   "outputs": [
    {
     "name": "stdout",
     "output_type": "stream",
     "text": [
      "pros$ect\n"
     ]
    }
   ],
   "source": [
    "print(replace_all_except_first('prospect', '$'))"
   ]
  },
  {
   "cell_type": "markdown",
   "metadata": {},
   "source": [
    "<h3>Q2. Write a Python program to get the single string from the two given strings, and separated by the space and swap the first two characters of each string?</h3><br/> \n",
    "Sample String : 'abc', 'xyz'.  <br/>\n",
    "Expected Result: 'xyc abz'"
   ]
  },
  {
   "cell_type": "code",
   "execution_count": 8,
   "metadata": {},
   "outputs": [],
   "source": [
    "def swap_char_n_concat(word_1, word_2):\n",
    "    word_1_temp = word_2[:2]+word_1[2:]\n",
    "    word_2_temp = word_1[:2]+word_2[2:]\n",
    "    return word_1_temp + word_2_temp"
   ]
  },
  {
   "cell_type": "code",
   "execution_count": 9,
   "metadata": {},
   "outputs": [
    {
     "name": "stdout",
     "output_type": "stream",
     "text": [
      "abzxyc\n"
     ]
    }
   ],
   "source": [
    "print(swap_char_n_concat('xyz', 'abc'))"
   ]
  },
  {
   "cell_type": "markdown",
   "metadata": {},
   "source": [
    "<h3>Q3. Write the Python program to add 'ing' at the end of the given string (length of the string should be at least 3). If given string already ends with 'ing,' then add 'ly' instead. If string length of the given string is less than 3, leave it unchanged?</h3><br/>\n",
    "Sample string: ' abc ' <br/>\n",
    "Expected result: ' abcing ' <br/>\n",
    "Sample string: ' string ' <br/>\n",
    "Expected result: ' stringly '<br/>"
   ]
  },
  {
   "cell_type": "code",
   "execution_count": 23,
   "metadata": {},
   "outputs": [],
   "source": [
    "def transform_word(word):\n",
    "    transform = word\n",
    "    if len(word)>=3:\n",
    "        if word.endswith('ing'):\n",
    "            transform = word +'ly'\n",
    "        else:\n",
    "            transform = word+'ing'\n",
    "    return transform"
   ]
  },
  {
   "cell_type": "code",
   "execution_count": 26,
   "metadata": {},
   "outputs": [
    {
     "name": "stdout",
     "output_type": "stream",
     "text": [
      "abcing\n",
      "stringly\n",
      "sh\n"
     ]
    }
   ],
   "source": [
    "print(transform_word('abc'))\n",
    "print(transform_word('string'))\n",
    "print(transform_word('sh'))"
   ]
  },
  {
   "cell_type": "markdown",
   "metadata": {},
   "source": [
    "<h3>Q4. Write the Python program to find the first appearance of the substring 'not' and 'poor' from the given string, if 'not' follows the 'poor', replace the whole 'not'...' poor' substring with 'good'.Return the resulting string. </h3><br/>\n",
    "Sample string: 'The lyrics are not that poor!' <br/>\n",
    "'The lyrics are poor!'<br/>\n",
    "Expected Result: 'The lyrics are good!' <br/>\n",
    "'The lyrics are poor!'<br/>"
   ]
  },
  {
   "cell_type": "code",
   "execution_count": 35,
   "metadata": {},
   "outputs": [
    {
     "name": "stdout",
     "output_type": "stream",
     "text": [
      "The lyrics are poor!\n",
      "The lyrics are good!\n"
     ]
    }
   ],
   "source": [
    "def get_assertive_affirmative(sentence):\n",
    "    output = sentence\n",
    "    not_index = sentence.find('not')\n",
    "    poor_index = sentence.find('poor')\n",
    "    \n",
    "    if not_index <= poor_index and not_index != -1 and poor_index != -1:\n",
    "        output = sentence[:not_index]+ 'good' + sentence[poor_index+len('poor'):]\n",
    "    return output\n",
    "        \n",
    "    \n",
    "print(get_assertive_affirmative('The lyrics are poor!'))\n",
    "print(get_assertive_affirmative('The lyrics are not that poor!'))"
   ]
  },
  {
   "cell_type": "markdown",
   "metadata": {},
   "source": [
    "<h3>Q5. Write the Python program to remove the characters which have odd index values of a given string.</h3>"
   ]
  },
  {
   "cell_type": "code",
   "execution_count": 48,
   "metadata": {},
   "outputs": [
    {
     "name": "stdout",
     "output_type": "stream",
     "text": [
      "tetet\n"
     ]
    }
   ],
   "source": [
    "remove_odd_place_holder = lambda x: ''.join([val for index, val in enumerate(x) if index %2 ==0])\n",
    "\n",
    "print(remove_odd_place_holder('treatment'))"
   ]
  },
  {
   "cell_type": "markdown",
   "metadata": {},
   "source": [
    "<h3>Q6. Write the Python function to get a string made of 4 copies of the last two characters of the specified string (length must be at least 2). </h3><br/>\n",
    "Sample function and result : <br/>\n",
    "insert-end ('Python') -> abababab <br/>\n",
    "insert-end('Exercises') -> jkjkjkjk <br/>"
   ]
  },
  {
   "cell_type": "code",
   "execution_count": 2,
   "metadata": {},
   "outputs": [
    {
     "name": "stdout",
     "output_type": "stream",
     "text": [
      "onononon\n",
      "eseseses\n",
      "t\n"
     ]
    }
   ],
   "source": [
    "def make_last_2_char_copy(word):\n",
    "    return word[-2:]*4 if len(word)>=2 else word\n",
    "\n",
    "print(make_last_2_char_copy('Python'))\n",
    "print(make_last_2_char_copy('Exercises'))\n",
    "print(make_last_2_char_copy('t'))"
   ]
  },
  {
   "cell_type": "markdown",
   "metadata": {},
   "source": [
    "<h3>Q7. Write the python function to get a string made of its first three characters of a specified string. If the length of the string is less than 3 then return the original string.</h3><br/>\n",
    "Sample function and result : <br/>\n",
    "first-three('ipy') -> ipy <br/>\n",
    "first-three('python') -> pyt<br/>"
   ]
  },
  {
   "cell_type": "code",
   "execution_count": 54,
   "metadata": {},
   "outputs": [
    {
     "name": "stdout",
     "output_type": "stream",
     "text": [
      "ipy\n",
      "pyt\n"
     ]
    }
   ],
   "source": [
    "get_first_3_chars = lambda x: x[:3] if len(x)>3 else x\n",
    "\n",
    "print(get_first_3_chars('ipy'))\n",
    "print(get_first_3_chars('python'))"
   ]
  },
  {
   "cell_type": "markdown",
   "metadata": {},
   "source": [
    "<h3>Q8. Write the python program to print the following floating numbers up to 2 decimal places?</h3>"
   ]
  },
  {
   "cell_type": "code",
   "execution_count": 63,
   "metadata": {},
   "outputs": [
    {
     "name": "stdout",
     "output_type": "stream",
     "text": [
      "3.57\n"
     ]
    }
   ],
   "source": [
    "print(round(3.5674, 2))"
   ]
  },
  {
   "cell_type": "markdown",
   "metadata": {},
   "source": [
    "<h3>Q9. Write the Python program to format a number with a percentage?</h3>"
   ]
  },
  {
   "cell_type": "code",
   "execution_count": 8,
   "metadata": {},
   "outputs": [
    {
     "name": "stdout",
     "output_type": "stream",
     "text": [
      "Actual number 0.45 represented in percentage: 45.00%\n"
     ]
    }
   ],
   "source": [
    "number = 0.45\n",
    "\n",
    "print('Actual number {} represented in percentage: {:.2%}'.format(number, number))"
   ]
  },
  {
   "cell_type": "markdown",
   "metadata": {},
   "source": [
    "<h3>Q10. Write the Python program to count occurrences of a substring in a String?</h3>"
   ]
  },
  {
   "cell_type": "code",
   "execution_count": 9,
   "metadata": {},
   "outputs": [
    {
     "name": "stdout",
     "output_type": "stream",
     "text": [
      "2\n"
     ]
    }
   ],
   "source": [
    "import re\n",
    "def get_occurance_count(search_text, text):\n",
    "    occurance = 0\n",
    "    for match in re.finditer(search_text, text):\n",
    "        occurance+=1\n",
    "    return occurance\n",
    "    \n",
    "print(get_occurance_count('ti', 'constitution'))"
   ]
  },
  {
   "cell_type": "markdown",
   "metadata": {},
   "source": [
    "<h3>Q11. Write the Python program to count repeated characters in a string.</h3><br/>\n",
    "Sample string: ' thequickbrownjumpsoverthelazydog ' <br/>\n",
    "Expected output: <br/>\n",
    "o 3 <br/>\n",
    "e 3 <br/>\n",
    "u 2 <br/>\n",
    "h 2 <br/>\n",
    "r 2 <br/>\n",
    "t 2 <br/>"
   ]
  },
  {
   "cell_type": "code",
   "execution_count": 95,
   "metadata": {},
   "outputs": [
    {
     "name": "stdout",
     "output_type": "stream",
     "text": [
      "('e', 3)\n",
      "('o', 3)\n",
      "('t', 2)\n",
      "('h', 2)\n",
      "('u', 2)\n",
      "('r', 2)\n"
     ]
    }
   ],
   "source": [
    "def get_repeated_char_count(word):\n",
    "    count_dict = {}\n",
    "    for char in word:\n",
    "        count_dict[char] = count_dict[char]+1 if char in count_dict else 1\n",
    "    return list(sorted([(k,v) for k,v in count_dict.items() if v > 1], key=lambda x: -x[1]))\n",
    "\n",
    "occurance_data = get_repeated_char_count('thequickbrownjumpsoverthelazydog')\n",
    "\n",
    "print('\\n'.join([str(t) for t in occurance_data]))"
   ]
  },
  {
   "cell_type": "markdown",
   "metadata": {},
   "source": [
    "<h3>Q12. Write the Python program to print the square and cube symbol in the area of a rectangle and volume of a cylinder?</h3> <br/>\n",
    "Sample output- <br/> \n",
    "The area of the rectangle is 1256.66$cm^2$ <br/>\n",
    "The volume of the cylinder is 1254.725$cm^3$<br/>"
   ]
  },
  {
   "cell_type": "code",
   "execution_count": 3,
   "metadata": {},
   "outputs": [
    {
     "name": "stdout",
     "output_type": "stream",
     "text": [
      "The area of rectange is 1256.66cm²\n",
      "The volume of cylinder is 1254.725cm³\n"
     ]
    }
   ],
   "source": [
    "print('The area of rectange is {0:.{1}f}cm\\u00b2'.format(1256.66, 2))\n",
    "\n",
    "print('The volume of cylinder is {0:.{1}f}cm\\u00b3'.format(1254.725, 3))"
   ]
  },
  {
   "cell_type": "markdown",
   "metadata": {},
   "source": [
    "<h3>Q13. Write the Python program to check if a string contains all letters of the alphabet?</h3>"
   ]
  },
  {
   "cell_type": "code",
   "execution_count": 21,
   "metadata": {},
   "outputs": [
    {
     "name": "stdout",
     "output_type": "stream",
     "text": [
      "True\n",
      "False\n"
     ]
    }
   ],
   "source": [
    "import string\n",
    "all_alpha_dict = {char:1 for char in list(string.ascii_lowercase)}\n",
    "\n",
    "def check_string_for_all_aplha(input):\n",
    "    count = 0\n",
    "    for c in input:\n",
    "        if c.lower() in all_alpha_dict:\n",
    "            count +=1\n",
    "    return True if count ==26 else False\n",
    "\n",
    "\n",
    "print(check_string_for_all_aplha('ABCDEFGHIJKLMNOPQRSTUVWXYZ'))\n",
    "print(check_string_for_all_aplha('SRIKANTH'))"
   ]
  },
  {
   "cell_type": "markdown",
   "metadata": {},
   "source": [
    "<h3>Q14. Write the Python program to find the second most repeated word in a given string?</h3>"
   ]
  },
  {
   "cell_type": "code",
   "execution_count": 24,
   "metadata": {},
   "outputs": [
    {
     "name": "stdout",
     "output_type": "stream",
     "text": [
      "Enter a string I am where I am \n",
      "\n",
      "am\n",
      "am\n",
      "where\n"
     ]
    }
   ],
   "source": [
    "string=input('Enter a string ')\n",
    "search=list(set(string.split(' ')))\n",
    "lis= {}\n",
    "for item in search:\n",
    "    lis.update({item: string.count(item)})\n",
    "for i in sorted(lis.values(),reverse=True):\n",
    "    #print(i)\n",
    "    if i==i+1:\n",
    "        continue\n",
    "    else:\n",
    "        for s,d in lis.items():\n",
    "            if d==i:\n",
    "                print(s)\n",
    "                break"
   ]
  },
  {
   "cell_type": "markdown",
   "metadata": {},
   "source": [
    "### Q15. Write the Python program to find the minimum window in the given string, which will contains all the characters of another given strings?"
   ]
  },
  {
   "cell_type": "code",
   "execution_count": null,
   "metadata": {},
   "outputs": [],
   "source": []
  },
  {
   "cell_type": "markdown",
   "metadata": {},
   "source": [
    "### Q16. Write the Python program to find smallest window that contains all characters of the given string"
   ]
  },
  {
   "cell_type": "code",
   "execution_count": null,
   "metadata": {},
   "outputs": [],
   "source": []
  },
  {
   "cell_type": "markdown",
   "metadata": {},
   "source": [
    "### Q17. Write the Python program to count number of substrings from a given string of lowercase alphabets with exactly k distinct (given) characters?"
   ]
  },
  {
   "cell_type": "code",
   "execution_count": null,
   "metadata": {},
   "outputs": [],
   "source": []
  },
  {
   "cell_type": "markdown",
   "metadata": {},
   "source": [
    "### Q18. Write the Python program to count number of non-empty substrings of the given string?"
   ]
  },
  {
   "cell_type": "code",
   "execution_count": 34,
   "metadata": {},
   "outputs": [
    {
     "name": "stdout",
     "output_type": "stream",
     "text": [
      "Enter a stringsrik\n",
      "10\n"
     ]
    }
   ],
   "source": [
    "string=input('Enter a string')\n",
    "l=len(string)\n",
    "print(int(l*(l+1)/2))"
   ]
  },
  {
   "cell_type": "markdown",
   "metadata": {},
   "source": [
    "#### Q19. Write the Python program to count number of substrings with same first and last characters of the given string"
   ]
  },
  {
   "cell_type": "code",
   "execution_count": null,
   "metadata": {},
   "outputs": [],
   "source": []
  },
  {
   "cell_type": "markdown",
   "metadata": {},
   "source": [
    "#### Q20. Write the Python program to count the number of strings where the string length is 2 or more, and first and last character are same from a given list of strings"
   ]
  },
  {
   "cell_type": "code",
   "execution_count": 38,
   "metadata": {},
   "outputs": [
    {
     "name": "stdout",
     "output_type": "stream",
     "text": [
      "Enter a listabc, wxy,wxw,1331\n",
      "2\n"
     ]
    }
   ],
   "source": [
    "input_val=input('Enter a list')\n",
    "input_val=list(input_val.split(','))\n",
    "c=0\n",
    "for value in input_val:\n",
    "    #print(value)\n",
    "    if len(value)>=2 and value[0]==value[-1]:\n",
    "        c=c+1\n",
    "print(c)"
   ]
  },
  {
   "cell_type": "markdown",
   "metadata": {},
   "source": [
    "#### Q21. Write the Python program to get a list, sorted in increasing order by the last element in each tuple from the given list of non-empty tuples?"
   ]
  },
  {
   "cell_type": "code",
   "execution_count": null,
   "metadata": {},
   "outputs": [],
   "source": []
  },
  {
   "cell_type": "markdown",
   "metadata": {},
   "source": [
    "#### Q22. Write the Python program to remove duplicates from a list?"
   ]
  },
  {
   "cell_type": "code",
   "execution_count": 41,
   "metadata": {},
   "outputs": [
    {
     "name": "stdout",
     "output_type": "stream",
     "text": [
      "Enter a list9,12,3,1,2,3,1,2,3,4,5,6\n",
      "['1', '5', '6', '12', '9', '2', '4', '3']\n"
     ]
    }
   ],
   "source": [
    "lis= input('Enter a list')\n",
    "lis=list(lis.split(','))\n",
    "print(list(set(lis)))"
   ]
  },
  {
   "cell_type": "markdown",
   "metadata": {},
   "source": [
    "#### Q23. Write the Python program to find the list of words that are longer than n from a given list of words?"
   ]
  },
  {
   "cell_type": "code",
   "execution_count": 43,
   "metadata": {},
   "outputs": [
    {
     "name": "stdout",
     "output_type": "stream",
     "text": [
      "Enter a listabc,def,fgigsd,aadgsjdgfisgfi,dfhdfh,shdisd,sdhS,heiWYEOAHDOW\n",
      "Enter a no6\n",
      "['aadgsjdgfisgfi', 'heiWYEOAHDOW']\n"
     ]
    }
   ],
   "source": [
    "lis= input('Enter a list')\n",
    "n=input('Enter a no')\n",
    "n=int(n)\n",
    "lis=list(lis.split(','))\n",
    "long_list=[i for i in lis if len(i) >  n]\n",
    "print(long_list)"
   ]
  },
  {
   "cell_type": "markdown",
   "metadata": {},
   "source": [
    "### Q24. Write the Python program to print a specified list after removing the 0th, 4th, and 5th elements?"
   ]
  },
  {
   "cell_type": "code",
   "execution_count": 46,
   "metadata": {},
   "outputs": [
    {
     "name": "stdout",
     "output_type": "stream",
     "text": [
      "Enter a listRed,Green,White,Black,Pink,Yellow\n",
      "['Green', 'White', 'Black']\n"
     ]
    }
   ],
   "source": [
    "lis= input('Enter a list')\n",
    "lis=list(lis.split(','))\n",
    "for i in [5,4,0]:\n",
    "    del lis[i]\n",
    "print(lis)"
   ]
  },
  {
   "cell_type": "markdown",
   "metadata": {},
   "source": [
    "#### Q25. Write the Python program to generate all permutations of a list in Python?"
   ]
  },
  {
   "cell_type": "code",
   "execution_count": 50,
   "metadata": {},
   "outputs": [
    {
     "name": "stdout",
     "output_type": "stream",
     "text": [
      "[(1, 2, 3), (1, 3, 2), (2, 1, 3), (2, 3, 1), (3, 1, 2), (3, 2, 1)]\n"
     ]
    }
   ],
   "source": [
    "import itertools\n",
    "print(list(itertools.permutations([1,2,3] )))"
   ]
  },
  {
   "cell_type": "markdown",
   "metadata": {},
   "source": [
    "#### Q26. Write the Python program to convert a pair of values into a sorted unique array?"
   ]
  },
  {
   "cell_type": "code",
   "execution_count": 52,
   "metadata": {},
   "outputs": [
    {
     "name": "stdout",
     "output_type": "stream",
     "text": [
      "Original List:  [(1, 2), (3, 4), (1, 2), (5, 6), (7, 8), (1, 2), (3, 4), (3, 4), (7, 8), (9, 10)]\n",
      "Sorted Unique Data: [1, 2, 3, 4, 5, 6, 7, 8, 9, 10]\n"
     ]
    }
   ],
   "source": [
    "L = [(1, 2), (3, 4), (1, 2), (5, 6), (7, 8), (1, 2), (3, 4), (3, 4), (7, 8), (9, 10)] \n",
    "print(\"Original List: \", L) \n",
    "print(\"Sorted Unique Data:\",sorted(set().union(*L)))"
   ]
  },
  {
   "cell_type": "markdown",
   "metadata": {},
   "source": [
    "#### Q27. Write the Python class to convert an integer to a roman numeral?"
   ]
  },
  {
   "cell_type": "code",
   "execution_count": null,
   "metadata": {},
   "outputs": [],
   "source": [
    "class py_solution:     \n",
    "    def int_to_Roman(self, num):         \n",
    "        val = [1000, 900, 500, 400,100, 90, 50, 40,10, 9, 5, 4,1]         \n",
    "        syb = [\"M\", \"CM\", \"D\", \"CD\",\"C\", \"XC\", \"L\", \"XL\", \"X\", \"IX\", \"V\", \"IV\",\"I\" ]         \n",
    "        roman_num = ''         \n",
    "        i = 0         \n",
    "        while  num > 0:             \n",
    "            for _ in range(num // val[i]):                 \n",
    "                roman_num += syb[i]                 \n",
    "                num -= val[i]             \n",
    "                i += 1         \n",
    "                return roman_num \n",
    "print(py_solution().int_to_Roman(1)) \n",
    "#print(py_solution().int_to_Roman(4000))"
   ]
  },
  {
   "cell_type": "markdown",
   "metadata": {},
   "source": [
    "#### Q28. Write the Python class to convert a Roman numeral to an integer?"
   ]
  },
  {
   "cell_type": "code",
   "execution_count": null,
   "metadata": {},
   "outputs": [],
   "source": [
    "class py_solution:     \n",
    "    def roman_to_int(self, s):         \n",
    "        rom_val = {'I': 1, 'V': 5, 'X': 10, 'L': 50, 'C': 100, 'D': 500, 'M': 1000} \n",
    "        int_val = 0         \n",
    "        for i in range(len(s)):             \n",
    "            if i > 0 and rom_val[s[i]] > rom_val[s[i - 1]]:                 \n",
    "                int_val += rom_val[s[i]] - 2 * rom_val[s[i - 1]]             \n",
    "            else:                 \n",
    "                int_val += rom_val[s[i]]         \n",
    "                return int_val \n",
    "print(py_solution().roman_to_int('MMMCMLXXXVI'))"
   ]
  },
  {
   "cell_type": "markdown",
   "metadata": {},
   "source": [
    "#### Q29. Write the Python class to find the validity of the string of the parentheses, '(', ')', '{', '}', '[' and '] and the brackets must be closed in the correct order, example - \"()\" and \"()[]{}\" are valid but \"[)\", \"({[)]\" and \"{{{\" are invalid."
   ]
  },
  {
   "cell_type": "code",
   "execution_count": null,
   "metadata": {},
   "outputs": [],
   "source": [
    "class py_solution: \n",
    "    def is_valid_parenthese(self, str1): \n",
    "        stack, pchar = [], {\"(\": \")\", \"{\": \"}\", \"[\": \"]\"} \n",
    "        for parenthese in str1: \n",
    "            if parenthese in pchar: \n",
    "                stack.append(parenthese) \n",
    "            elif len(stack) == 0 or pchar[stack.pop()] != parenthese: \n",
    "                return False \n",
    "        return len(stack) == 0 \n",
    "rint(py_solution().is_valid_parenthese(\"({}[]\"))"
   ]
  },
  {
   "cell_type": "markdown",
   "metadata": {},
   "source": [
    "#### Q30. Write the Python class to get all possible unique subsets from a set of distinct integers?"
   ]
  },
  {
   "cell_type": "code",
   "execution_count": null,
   "metadata": {},
   "outputs": [],
   "source": [
    "class py_solution:     \n",
    "    def sub_sets(self, sset):         \n",
    "        return self.subsetsRecur([], sorted(sset))      \n",
    "    def subsetsRecur(self, current, sset):         \n",
    "        if sset:             \n",
    "            return self.subsetsRecur(current, sset[1:]) + self.subsetsRecur(current + [sset[0]], sset[1:])         \n",
    "        return [current] \n",
    "print(py_solution().sub_sets([4,5,6]))"
   ]
  },
  {
   "cell_type": "markdown",
   "metadata": {},
   "source": [
    "#### Q31. Write the Python class to find a pair of elements (indices of the two numbers) from a given array whose sum equals the specific target number?"
   ]
  },
  {
   "cell_type": "code",
   "execution_count": 3,
   "metadata": {},
   "outputs": [
    {
     "name": "stdout",
     "output_type": "stream",
     "text": [
      "index1=2, index2=3\n"
     ]
    }
   ],
   "source": [
    "class py_solution: \n",
    "    def twoSum(self, nums, target): \n",
    "        lookup = {} \n",
    "        for i, num in enumerate(nums): \n",
    "            if target - num in lookup: \n",
    "                return (lookup[target - num], i ) \n",
    "            lookup[num] = i \n",
    "print(\"index1=%d, index2=%d\" % py_solution().twoSum((10,20,10,40,50,60,70),50))"
   ]
  },
  {
   "cell_type": "markdown",
   "metadata": {},
   "source": [
    "#### Q32. Write the Python class to find the three elements that sum to zero from the set of n real numbers?"
   ]
  },
  {
   "cell_type": "code",
   "execution_count": 12,
   "metadata": {},
   "outputs": [
    {
     "name": "stdout",
     "output_type": "stream",
     "text": [
      "[[-10, 2, 8], [-7, -3, 10]]\n"
     ]
    }
   ],
   "source": [
    "class py_solution: \n",
    "    def threeSum(self, nums): \n",
    "        nums, result, i = sorted(nums), [], 0 \n",
    "        while i < len(nums) - 2: \n",
    "            j, k = i + 1, len(nums) - 1 \n",
    "            while j < k: \n",
    "                if nums[i] + nums[j] + nums[k] < 0: \n",
    "                    j += 1 \n",
    "                elif nums[i] + nums[j] + nums[k] > 0:\n",
    "                     k -= 1 \n",
    "                else: \n",
    "                    result.append([nums[i], nums[j], nums[k]]) \n",
    "                    j, k = j + 1, k - 1 \n",
    "                    while j < k and nums[j] == nums[j - 1]: \n",
    "                        j += 1 \n",
    "                    while j < k and nums[k] == nums[k + 1]: \n",
    "                        k -= 1 \n",
    "            i += 1 \n",
    "            while i < len(nums) - 2 and nums[i] == nums[i - 1]: \n",
    "                i += 1 \n",
    "        return result \n",
    "print(py_solution().threeSum([-25, -10, -7, -3, 2, 4, 8, 10]))"
   ]
  },
  {
   "cell_type": "markdown",
   "metadata": {},
   "source": [
    "#### Q33. Write the Python class to implement pow(x, n)?"
   ]
  },
  {
   "cell_type": "code",
   "execution_count": 14,
   "metadata": {},
   "outputs": [
    {
     "name": "stdout",
     "output_type": "stream",
     "text": [
      "0.125\n",
      "243\n"
     ]
    }
   ],
   "source": [
    "class py_solution:    \n",
    "    def pow(self, x, n):         \n",
    "        if x==0 or x==1 or n==1:             \n",
    "            return x  \n",
    " \n",
    "        if x==-1:             \n",
    "            if n%2 ==0:                 \n",
    "                return 1             \n",
    "            else:                 \n",
    "                return -1         \n",
    "        if n==0:             \n",
    "            return 1         \n",
    "        if n<0:             \n",
    "            return 1/self.pow(x,-n)         \n",
    "        val = self.pow(x,n//2)         \n",
    "        if n%2 ==0:\n",
    "             return val*val         \n",
    "        return val*val*x \n",
    "print(py_solution().pow(2, -3)); \n",
    "print(py_solution().pow(3, 5));"
   ]
  },
  {
   "cell_type": "markdown",
   "metadata": {},
   "source": [
    "#### Q34. Write the Python class which has two methods get_String and print_String. get_String accept the string from the user and print_String print the string in upper case."
   ]
  },
  {
   "cell_type": "code",
   "execution_count": 17,
   "metadata": {},
   "outputs": [
    {
     "name": "stdout",
     "output_type": "stream",
     "text": [
      "Enter a stringstring\n",
      "STRING\n"
     ]
    }
   ],
   "source": [
    "class IOString():     \n",
    "    def __init__(self):         \n",
    "        self.str1 = \"\" \n",
    " \n",
    "    def get_String(self):         \n",
    "        self.str1 = input('Enter a string') \n",
    " \n",
    "    def print_String(self):         \n",
    "        print(self.str1.upper()) \n",
    "str1 = IOString() \n",
    "str1.get_String() \n",
    "str1.print_String()"
   ]
  },
  {
   "cell_type": "markdown",
   "metadata": {},
   "source": [
    "#### Q35. Write the Python class named Rectangle constructed by a length and width and the method which will compute the area of the rectangle?"
   ]
  },
  {
   "cell_type": "code",
   "execution_count": null,
   "metadata": {},
   "outputs": [],
   "source": [
    "class Rectangle(): \n",
    "    def __init__(self, l, w): \n",
    "        self.length = l \n",
    "        self.width  = w \n",
    " \n",
    "    def rectangle_area(self): \n",
    "        return self.length*self.width \n",
    "newRectangle = Rectangle(12, 10) \n",
    "print(newRectangle.rectangle_area())"
   ]
  },
  {
   "cell_type": "markdown",
   "metadata": {},
   "source": [
    "### Q36. Write the Python class named Circle constructed by the radius and two methods which will compute the area and perimeter of the circle?"
   ]
  },
  {
   "cell_type": "code",
   "execution_count": 20,
   "metadata": {},
   "outputs": [
    {
     "name": "stdout",
     "output_type": "stream",
     "text": [
      "200.96\n",
      "50.24\n"
     ]
    }
   ],
   "source": [
    "class Circle(): \n",
    "    def __init__(self, r):         \n",
    "        self.radius = r \n",
    " \n",
    "    def area(self):         \n",
    "        return self.radius**2*3.14          \n",
    "    def perimeter(self):         \n",
    "        return 2*self.radius*3.14 \n",
    "NewCircle = Circle(8) \n",
    "print(NewCircle.area()) \n",
    "print(NewCircle.perimeter())"
   ]
  },
  {
   "cell_type": "markdown",
   "metadata": {},
   "source": [
    "### Q37. Write the Python program to get the class name of an instance in Python?"
   ]
  },
  {
   "cell_type": "code",
   "execution_count": 22,
   "metadata": {},
   "outputs": [
    {
     "name": "stdout",
     "output_type": "stream",
     "text": [
      "cycle\n"
     ]
    }
   ],
   "source": [
    "import itertools \n",
    "x = itertools.cycle('ABCD') \n",
    "print(type(x).__name__)"
   ]
  },
  {
   "cell_type": "markdown",
   "metadata": {},
   "source": [
    "### Q38. Write the Python program to count the number of students of individual class?"
   ]
  },
  {
   "cell_type": "code",
   "execution_count": 24,
   "metadata": {},
   "outputs": [
    {
     "name": "stdout",
     "output_type": "stream",
     "text": [
      "Counter({'VI': 3, 'V': 2, 'VII': 1})\n"
     ]
    }
   ],
   "source": [
    "from collections import Counter \n",
    "classes = (     ('V', 1),     ('VI', 1),     ('V', 2),     ('VI', 2),     ('VI', 3),     ('VII', 1) ) \n",
    "students = Counter(class_name for class_name, no_students in classes) \n",
    "print(students)"
   ]
  },
  {
   "cell_type": "markdown",
   "metadata": {},
   "source": [
    "### Q39. Write the Python program to create an instance of an OrderedDict using the given dictionary and sort dictionary during the creation and print members of the dictionary in reverse order?"
   ]
  },
  {
   "cell_type": "code",
   "execution_count": 26,
   "metadata": {},
   "outputs": [
    {
     "name": "stdout",
     "output_type": "stream",
     "text": [
      "Afghanistan 93\n",
      "Albania 355\n",
      "Algeria 213\n",
      "Andorra 376\n",
      "Angola 244\n",
      "\n",
      "In reverse order:\n",
      "Angola 244\n",
      "Andorra 376\n",
      "Algeria 213\n",
      "Albania 355\n",
      "Afghanistan 93\n"
     ]
    }
   ],
   "source": [
    "from collections import OrderedDict \n",
    "dict = {'Afghanistan': 93, 'Albania': 355, 'Algeria': 213, 'Andorra': 376, 'Angola': 244} \n",
    "new_dict = OrderedDict(dict.items()) \n",
    "for key in new_dict:     \n",
    "    print (key, new_dict[key]) \n",
    " \n",
    "print(\"\\nIn reverse order:\") \n",
    "for key in reversed(new_dict):     \n",
    "    print (key, new_dict[key])"
   ]
  },
  {
   "cell_type": "markdown",
   "metadata": {},
   "source": [
    "### Q40. Write the Python program to compare two unordered lists (not sets)?"
   ]
  },
  {
   "cell_type": "code",
   "execution_count": 28,
   "metadata": {},
   "outputs": [
    {
     "name": "stdout",
     "output_type": "stream",
     "text": [
      "False\n"
     ]
    }
   ],
   "source": [
    "from collections import Counter \n",
    "def compare_lists(x, y):     \n",
    "    return Counter(x) == Counter(y) \n",
    "n1 = [20, 10, 30, 10, 20, 30] \n",
    "n2 = [30, 20, 10, 30, 20, 50] \n",
    "print(compare_lists(n1, n2))"
   ]
  },
  {
   "cell_type": "markdown",
   "metadata": {},
   "source": [
    "#### Q41. Write the Python program to get an array buffer information"
   ]
  },
  {
   "cell_type": "code",
   "execution_count": 30,
   "metadata": {},
   "outputs": [
    {
     "name": "stdout",
     "output_type": "stream",
     "text": [
      "Array buffer start address in memory and number of elements.\n",
      "(2630546243232, 2)\n"
     ]
    }
   ],
   "source": [
    "from array import array \n",
    "a = array(\"I\", (12,25)) \n",
    "print(\"Array buffer start address in memory and number of elements.\") \n",
    "print(a.buffer_info())"
   ]
  },
  {
   "cell_type": "markdown",
   "metadata": {},
   "source": [
    "### Q42. Write the Python program to convert an array to an array of machine values and return the bytes representation?"
   ]
  },
  {
   "cell_type": "code",
   "execution_count": 32,
   "metadata": {},
   "outputs": [
    {
     "name": "stdout",
     "output_type": "stream",
     "text": [
      "Original array:\n",
      "A1: array('i', [1, 2, 3, 4, 5, 6])\n",
      "Array of bytes: b'010000000200000003000000040000000500000006000000'\n"
     ]
    }
   ],
   "source": [
    "import array \n",
    "import binascii \n",
    "a = array.array('i', [1,2,3,4,5,6]) \n",
    "print(\"Original array:\") \n",
    "print('A1:', a) \n",
    "bytes_array = a.tobytes() \n",
    "print('Array of bytes:', binascii.hexlify(bytes_array))"
   ]
  },
  {
   "cell_type": "markdown",
   "metadata": {},
   "source": [
    "### Q43. Write the Python program to read a string and interpreting the string as an array of machine values"
   ]
  },
  {
   "cell_type": "code",
   "execution_count": 34,
   "metadata": {},
   "outputs": [
    {
     "name": "stdout",
     "output_type": "stream",
     "text": [
      "array1: array('i', [7, 8, 9, 10])\n",
      "Bytes: b'0700000008000000090000000a000000'\n",
      "array2: array('i', [7, 8, 9, 10])\n"
     ]
    }
   ],
   "source": [
    "from array import array \n",
    "import binascii \n",
    "array1 = array('i', [7, 8, 9, 10]) \n",
    "print('array1:', array1) \n",
    "as_bytes = array1.tobytes() \n",
    "print('Bytes:', binascii.hexlify(as_bytes)) \n",
    "array2 = array('i') \n",
    "array2.frombytes(as_bytes) \n",
    "print('array2:', array2)"
   ]
  },
  {
   "cell_type": "markdown",
   "metadata": {},
   "source": [
    "### Q44. Write the Python program to push three items into the heap and return the smallest item from the heap. Also, return and pop the smallest item from the heap?"
   ]
  },
  {
   "cell_type": "code",
   "execution_count": 36,
   "metadata": {},
   "outputs": [
    {
     "name": "stdout",
     "output_type": "stream",
     "text": [
      "Items in the heap:\n",
      "('V', 1)\n",
      "----------------------\n",
      "The smallest item in the heap:\n",
      "('V', 1)\n",
      "----------------------\n",
      "Pop the smallest item in the heap:\n",
      "('V', 3)\n",
      "----------------------\n",
      "The smallest item in the heap:\n",
      "('V', 2)\n",
      "----------------------\n",
      "Pop the smallest item in the heap:\n",
      "('V', 3)\n"
     ]
    }
   ],
   "source": [
    "import heapq \n",
    "heap = [] \n",
    "heapq.heappush(heap, ('V', 3)) \n",
    "heapq.heappush(heap, ('V', 2)) \n",
    "heapq.heappush(heap, ('V', 1)) \n",
    "print(\"Items in the heap:\") \n",
    "for a in heap:  \n",
    "    print(a) \n",
    "    print(\"----------------------\") \n",
    "    print(\"The smallest item in the heap:\") \n",
    "    print(heap[0]) \n",
    "    print(\"----------------------\") \n",
    "    print(\"Pop the smallest item in the heap:\") \n",
    "    heapq.heappop(heap) \n",
    "for a in heap:  \n",
    "    print(a)"
   ]
  },
  {
   "cell_type": "markdown",
   "metadata": {},
   "source": [
    "### Q45. Write the Python program to locate the left insertion point for a specified value in sorted order"
   ]
  },
  {
   "cell_type": "code",
   "execution_count": 38,
   "metadata": {},
   "outputs": [
    {
     "name": "stdout",
     "output_type": "stream",
     "text": [
      "2\n"
     ]
    }
   ],
   "source": [
    "import bisect \n",
    "def index(a, x): \n",
    "    i = bisect.bisect_left(a, x) \n",
    "    return i \n",
    "     \n",
    "a = [1,2,4,5] \n",
    "print(index(a, 3))"
   ]
  },
  {
   "cell_type": "markdown",
   "metadata": {},
   "source": [
    "### Q46. Write the Python program to create the FIFO queue?¶"
   ]
  },
  {
   "cell_type": "code",
   "execution_count": 40,
   "metadata": {},
   "outputs": [
    {
     "name": "stdout",
     "output_type": "stream",
     "text": [
      "0 1 2 3 \n",
      "\n"
     ]
    }
   ],
   "source": [
    "import queue \n",
    "q = queue.Queue() \n",
    "#insert items at the end of the queue  \n",
    "for x in range(4): \n",
    "    q.put(str(x)) \n",
    "#remove items from the head of the queue  \n",
    "while not q.empty(): \n",
    "    print(q.get(), end=\" \") \n",
    "print(\"\\n\")"
   ]
  },
  {
   "cell_type": "markdown",
   "metadata": {},
   "source": [
    "### Q47. Write the Python program to calculate the harmonic sum of n-1."
   ]
  },
  {
   "cell_type": "code",
   "execution_count": 42,
   "metadata": {},
   "outputs": [
    {
     "name": "stdout",
     "output_type": "stream",
     "text": [
      "2.5928571428571425\n"
     ]
    }
   ],
   "source": [
    "def harmonic_sum(n): \n",
    "    if n < 2: \n",
    "        return 1 \n",
    "    else: \n",
    "        return 1 / n + (harmonic_sum(n - 1)) \n",
    "     \n",
    "print(harmonic_sum(7))"
   ]
  },
  {
   "cell_type": "markdown",
   "metadata": {},
   "source": [
    "### Q48. Write the NumPy program to create a 2d array with 6 on the border and 0 inside?"
   ]
  },
  {
   "cell_type": "code",
   "execution_count": 44,
   "metadata": {},
   "outputs": [
    {
     "name": "stdout",
     "output_type": "stream",
     "text": [
      "Original array:\n",
      "[[6. 6. 6. 6. 6.]\n",
      " [6. 6. 6. 6. 6.]\n",
      " [6. 6. 6. 6. 6.]\n",
      " [6. 6. 6. 6. 6.]\n",
      " [6. 6. 6. 6. 6.]]\n",
      "1 on the border and 0 inside in the array\n",
      "[[6. 6. 6. 6. 6.]\n",
      " [6. 0. 0. 0. 6.]\n",
      " [6. 0. 0. 0. 6.]\n",
      " [6. 0. 0. 0. 6.]\n",
      " [6. 6. 6. 6. 6.]]\n"
     ]
    }
   ],
   "source": [
    "import numpy as np \n",
    "x = 6* np.ones((5,5)) \n",
    "print(\"Original array:\") \n",
    "print(x)\n",
    "print(\"1 on the border and 0 inside in the array\") \n",
    "x[1:-1,1:-1] = 0 \n",
    "print(x)"
   ]
  },
  {
   "cell_type": "markdown",
   "metadata": {},
   "source": [
    "### Q49"
   ]
  },
  {
   "cell_type": "code",
   "execution_count": 47,
   "metadata": {},
   "outputs": [
    {
     "name": "stdout",
     "output_type": "stream",
     "text": [
      "Checkerboard pattern:\n",
      "[[0 1 0 1 0 1 0 1]\n",
      " [1 0 1 0 1 0 1 0]\n",
      " [0 1 0 1 0 1 0 1]\n",
      " [1 0 1 0 1 0 1 0]\n",
      " [0 1 0 1 0 1 0 1]\n",
      " [1 0 1 0 1 0 1 0]\n",
      " [0 1 0 1 0 1 0 1]\n",
      " [1 0 1 0 1 0 1 0]]\n"
     ]
    }
   ],
   "source": [
    "x = np.ones((3,3)) \n",
    "print(\"Checkerboard pattern:\") \n",
    "x = np.zeros((8,8),dtype=int) \n",
    "x[1::2,::2] = 1 \n",
    "x[::2,1::2] = 1 \n",
    "print(x)"
   ]
  },
  {
   "cell_type": "markdown",
   "metadata": {},
   "source": [
    "#### Q50:"
   ]
  },
  {
   "cell_type": "code",
   "execution_count": 49,
   "metadata": {},
   "outputs": [
    {
     "name": "stdout",
     "output_type": "stream",
     "text": [
      "[[0. 0. 0. 0.]\n",
      " [0. 0. 0. 0.]\n",
      " [0. 0. 0. 0.]]\n",
      "[[6 6 6]\n",
      " [6 6 6]\n",
      " [6 6 6]]\n"
     ]
    }
   ],
   "source": [
    "x = np.empty((3,4)) \n",
    "print(x) \n",
    "y = np.full((3,3),6) \n",
    "print(y)"
   ]
  },
  {
   "cell_type": "markdown",
   "metadata": {},
   "source": [
    "#### Q51:"
   ]
  },
  {
   "cell_type": "code",
   "execution_count": 50,
   "metadata": {},
   "outputs": [
    {
     "name": "stdout",
     "output_type": "stream",
     "text": [
      "Values in Fahrenheit degrees:\n",
      "[ 0.   12.   45.21 34.   99.91]\n",
      "Values in  Centigrade degrees:\n",
      "[-17.77777778 -11.11111111   7.33888889   1.11111111  37.72777778]\n"
     ]
    }
   ],
   "source": [
    "fvalues = [0, 12, 45.21, 34, 99.91] \n",
    "F = np.array(fvalues) \n",
    "print(\"Values in Fahrenheit degrees:\") \n",
    "print(F) \n",
    "print(\"Values in  Centigrade degrees:\")  \n",
    "print(5*F/9 - 5*32/9)"
   ]
  },
  {
   "cell_type": "markdown",
   "metadata": {},
   "source": [
    "### Q54:"
   ]
  },
  {
   "cell_type": "code",
   "execution_count": 53,
   "metadata": {},
   "outputs": [
    {
     "name": "stdout",
     "output_type": "stream",
     "text": [
      "Original array:x  [1.+0.j]\n",
      "Original array:y  [0.70710678+0.70710678j]\n",
      "Real part of the array:\n",
      "[1.]\n",
      "[0.70710678]\n",
      "Imaginary part of the array:\n",
      "[0.]\n",
      "[0.70710678]\n"
     ]
    }
   ],
   "source": [
    "x = np.sqrt([1+0j]) \n",
    "y = np.sqrt([0+1j]) \n",
    "print(\"Original array:x \",x) \n",
    "print(\"Original array:y \",y) \n",
    "print(\"Real part of the array:\") \n",
    "print(x.real) \n",
    "print(y.real) \n",
    "print(\"Imaginary part of the array:\") \n",
    "print(x.imag) \n",
    "print(y.imag)"
   ]
  },
  {
   "cell_type": "markdown",
   "metadata": {},
   "source": [
    "#### Q55:"
   ]
  },
  {
   "cell_type": "code",
   "execution_count": 55,
   "metadata": {},
   "outputs": [
    {
     "name": "stdout",
     "output_type": "stream",
     "text": [
      "Array1:  [ 0 10 20 40 60]\n",
      "Array2:  [0, 40]\n",
      "Compare each element of array1 and array2\n",
      "[ True False False  True False]\n"
     ]
    }
   ],
   "source": [
    "array1 = np.array([0, 10, 20, 40, 60]) \n",
    "print(\"Array1: \",array1) \n",
    "array2 = [0, 40] \n",
    "print(\"Array2: \",array2) \n",
    "print(\"Compare each element of array1 and array2\") \n",
    "print(np.in1d(array1, array2))"
   ]
  },
  {
   "cell_type": "code",
   "execution_count": 56,
   "metadata": {},
   "outputs": [
    {
     "name": "stdout",
     "output_type": "stream",
     "text": [
      "Array1:  [ 0 10 20 40 60]\n",
      "Array2:  [10, 30, 40]\n",
      "Common values between two arrays:\n",
      "[10 40]\n"
     ]
    }
   ],
   "source": [
    "array1 = np.array([0, 10, 20, 40, 60]) \n",
    "print(\"Array1: \",array1) \n",
    "array2 = [10, 30, 40] \n",
    "print(\"Array2: \",array2) \n",
    "print(\"Common values between two arrays:\") \n",
    "print(np.intersect1d(array1, array2))"
   ]
  },
  {
   "cell_type": "code",
   "execution_count": 57,
   "metadata": {},
   "outputs": [
    {
     "name": "stdout",
     "output_type": "stream",
     "text": [
      "Original array:\n",
      "[10 10 20 20 30 30]\n",
      "Unique elements of the above array:\n",
      "[10 20 30]\n",
      "Original array:\n",
      "[[1 1]\n",
      " [2 3]]\n",
      "Unique elements of the above array:\n",
      "[1 2 3]\n"
     ]
    }
   ],
   "source": [
    "x = np.array([10, 10, 20, 20, 30, 30]) \n",
    "print(\"Original array:\") \n",
    "print(x) \n",
    "print(\"Unique elements of the above array:\") \n",
    "print(np.unique(x)) \n",
    "x = np.array([[1, 1], [2, 3]]) \n",
    "print(\"Original array:\") \n",
    "print(x) \n",
    "print(\"Unique elements of the above array:\") \n",
    "print(np.unique(x))"
   ]
  },
  {
   "cell_type": "code",
   "execution_count": 58,
   "metadata": {},
   "outputs": [
    {
     "name": "stdout",
     "output_type": "stream",
     "text": [
      "Array1:  [ 0 10 20 40 60 80]\n",
      "Array2:  [10, 30, 40, 50, 70]\n",
      "Unique values that are in only one (not both) of the input arrays:\n",
      "[ 0 20 30 50 60 70 80]\n"
     ]
    }
   ],
   "source": [
    "array1 = np.array([0, 10, 20, 40, 60, 80])\n",
    "print(\"Array1: \",array1) \n",
    "array2 = [10, 30, 40, 50, 70] \n",
    "print(\"Array2: \",array2) \n",
    "print(\"Unique values that are in only one (not both) of the input arrays:\") \n",
    "print(np.setxor1d(array1, array2))"
   ]
  },
  {
   "cell_type": "code",
   "execution_count": 59,
   "metadata": {},
   "outputs": [
    {
     "name": "stdout",
     "output_type": "stream",
     "text": [
      "False\n",
      "True\n",
      "False\n",
      "True\n"
     ]
    }
   ],
   "source": [
    "print(np.all([[True,False],[True,True]])) \n",
    "print(np.all([[True,True],[True,True]])) \n",
    "print(np.all([10, 20, 0, -50])) \n",
    "print(np.all([10, 20, -50]))"
   ]
  },
  {
   "cell_type": "code",
   "execution_count": 61,
   "metadata": {},
   "outputs": [
    {
     "name": "stdout",
     "output_type": "stream",
     "text": [
      "False\n",
      "True\n",
      "True\n",
      "True\n"
     ]
    }
   ],
   "source": [
    "print(np.any([[False,False],[False,False]])) \n",
    "print(np.any([[True,True],[True,True]])) \n",
    "print(np.any([10, 20, 0, -50])) \n",
    "print(np.any([10, 20, -50]))"
   ]
  },
  {
   "cell_type": "code",
   "execution_count": 62,
   "metadata": {},
   "outputs": [
    {
     "name": "stdout",
     "output_type": "stream",
     "text": [
      "Original array:  [1 2 3 4 5 6]\n",
      "Maximum Values:  5\n",
      "Minimum Values:  0\n"
     ]
    }
   ],
   "source": [
    "x = np.array([1, 2, 3, 4, 5, 6]) \n",
    "print(\"Original array: \",x) \n",
    "print(\"Maximum Values: \",np.argmax(x))\n",
    "print(\"Minimum Values: \",np.argmin(x))"
   ]
  },
  {
   "cell_type": "code",
   "execution_count": 64,
   "metadata": {},
   "outputs": [
    {
     "name": "stdout",
     "output_type": "stream",
     "text": [
      "Array a:  [1 2]\n",
      "Array b:  [4 5]\n",
      "a > b\n",
      "[False False]\n",
      "a >= b\n",
      "[False False]\n",
      "a < b\n",
      "[ True  True]\n",
      "a <= b\n",
      "[ True  True]\n"
     ]
    }
   ],
   "source": [
    "a = np.array([1, 2]) \n",
    "b = np.array([4, 5]) \n",
    "print(\"Array a: \",a) \n",
    "print(\"Array b: \",b) \n",
    "print(\"a > b\") \n",
    "print(np.greater(a, b)) \n",
    "print(\"a >= b\") \n",
    "print(np.greater_equal(a, b)) \n",
    "print(\"a < b\") \n",
    "print(np.less(a, b)) \n",
    "print(\"a <= b\") \n",
    "print(np.less_equal(a, b))"
   ]
  },
  {
   "cell_type": "code",
   "execution_count": 65,
   "metadata": {},
   "outputs": [
    {
     "name": "stdout",
     "output_type": "stream",
     "text": [
      "Original array: \n",
      "[[4 6]\n",
      " [2 1]]\n",
      "Sort along the first axis: \n",
      "[[2 1]\n",
      " [4 6]]\n",
      "Sort along the last axis: \n",
      "[[1 2]\n",
      " [4 6]]\n"
     ]
    }
   ],
   "source": [
    "a = np.array([[4, 6],[2, 1]]) \n",
    "print(\"Original array: \") \n",
    "print(a) \n",
    "print(\"Sort along the first axis: \") \n",
    "x = np.sort(a, axis=0) \n",
    "print(x) \n",
    "print(\"Sort along the last axis: \") \n",
    "y = np.sort(x, axis=1) \n",
    "print(y)"
   ]
  },
  {
   "cell_type": "code",
   "execution_count": 66,
   "metadata": {},
   "outputs": [
    {
     "name": "stdout",
     "output_type": "stream",
     "text": [
      "[1 3 2 4 0]\n"
     ]
    }
   ],
   "source": [
    "first_names =    ('Margery', 'Betsey', 'Shelley', 'Lanell', 'Genesis') \n",
    "last_names = ('Woolum', 'Battle', 'Plotner', 'Brien', 'Stahl') \n",
    "\n",
    "x = np.lexsort((first_names, last_names)) \n",
    "print(x)"
   ]
  },
  {
   "cell_type": "code",
   "execution_count": 67,
   "metadata": {},
   "outputs": [
    {
     "name": "stdout",
     "output_type": "stream",
     "text": [
      "Original array: \n",
      "[[ 0 10 20]\n",
      " [20 30 40]]\n",
      "Values bigger than 10 = [20 20 30 40]\n",
      "Their indices are  (array([0, 1, 1, 1], dtype=int64), array([2, 0, 1, 2], dtype=int64))\n"
     ]
    }
   ],
   "source": [
    "x = np.array([[0, 10, 20], [20, 30, 40]]) \n",
    "print(\"Original array: \") \n",
    "print(x) \n",
    "print(\"Values bigger than 10 =\", x[x>10]) \n",
    "print(\"Their indices are \", np.nonzero(x > 10))"
   ]
  },
  {
   "cell_type": "code",
   "execution_count": 68,
   "metadata": {},
   "outputs": [
    {
     "name": "stdout",
     "output_type": "stream",
     "text": [
      "128 bytes\n"
     ]
    }
   ],
   "source": [
    "n = np.zeros((4,4)) \n",
    "print(\"%d bytes\" % (n.size * n.itemsize))"
   ]
  },
  {
   "cell_type": "code",
   "execution_count": 69,
   "metadata": {},
   "outputs": [
    {
     "name": "stdout",
     "output_type": "stream",
     "text": [
      "Create an array of zeros\n",
      "Default type is float\n",
      "[[0. 0.]]\n",
      "Type changes to int\n",
      "[[0 0]]\n",
      "Create an array of ones\n",
      "Default type is float\n",
      "[[1. 1.]]\n",
      "Type changes to int\n",
      "[[1 1]]\n"
     ]
    }
   ],
   "source": [
    "print(\"Create an array of zeros\") \n",
    "x = np.zeros((1,2)) \n",
    "print(\"Default type is float\") \n",
    "print(x) \n",
    "print(\"Type changes to int\") \n",
    "x = np.zeros((1,2), dtype = np.int) \n",
    "print(x) \n",
    "print(\"Create an array of ones\") \n",
    "\n",
    "y= np.ones((1,2))  \n",
    "print(\"Default type is float\") \n",
    "print(y) \n",
    "print(\"Type changes to int\") \n",
    "y = np.ones((1,2), dtype = np.int) \n",
    "print(y)"
   ]
  },
  {
   "cell_type": "code",
   "execution_count": 70,
   "metadata": {},
   "outputs": [
    {
     "name": "stdout",
     "output_type": "stream",
     "text": [
      "Reshape 3x2:\n",
      "[[1 2]\n",
      " [3 4]\n",
      " [5 6]]\n",
      "Reshape 2x3:\n",
      "[[1 2 3]\n",
      " [4 5 6]]\n"
     ]
    }
   ],
   "source": [
    "x = np.array([1, 2, 3, 4, 5, 6]) \n",
    "y = np.reshape(x,(3,2)) \n",
    "print(\"Reshape 3x2:\") \n",
    "print(y) \n",
    "z = np.reshape(x,(2,3)) \n",
    "print(\"Reshape 2x3:\") \n",
    "print(z)"
   ]
  },
  {
   "cell_type": "code",
   "execution_count": 71,
   "metadata": {},
   "outputs": [
    {
     "name": "stdout",
     "output_type": "stream",
     "text": [
      "[[2 2 2 2 2]\n",
      " [2 2 2 2 2]\n",
      " [2 2 2 2 2]]\n",
      "[[2 2 2 2 2]\n",
      " [2 2 2 2 2]\n",
      " [2 2 2 2 2]]\n"
     ]
    }
   ],
   "source": [
    "x = np.full((3, 5), 2, dtype=np.uint) \n",
    "print(x) \n",
    "\n",
    "y = np.ones([3, 5], dtype=np.uint) *2 \n",
    "print(y)"
   ]
  },
  {
   "cell_type": "code",
   "execution_count": 72,
   "metadata": {},
   "outputs": [
    {
     "name": "stdout",
     "output_type": "stream",
     "text": [
      "[[1. 0. 0.]\n",
      " [0. 1. 0.]\n",
      " [0. 0. 1.]]\n"
     ]
    }
   ],
   "source": [
    "x = np.eye(3) \n",
    "print(x)"
   ]
  },
  {
   "cell_type": "code",
   "execution_count": 73,
   "metadata": {},
   "outputs": [
    {
     "name": "stdout",
     "output_type": "stream",
     "text": [
      "Original array: [ 1  2  3  4  5  6  7  8  9 10 11 12 13 14]\n",
      "After splitting:\n",
      "[array([1, 2]), array([3, 4, 5, 6]), array([ 7,  8,  9, 10, 11, 12, 13, 14])]\n"
     ]
    }
   ],
   "source": [
    "x = np.arange(1, 15) \n",
    "\n",
    "print(\"Original array:\",x)\n",
    "print(\"After splitting:\") \n",
    "print(np.split(x, [2, 6]))"
   ]
  },
  {
   "cell_type": "code",
   "execution_count": 74,
   "metadata": {},
   "outputs": [
    {
     "name": "stdout",
     "output_type": "stream",
     "text": [
      "Original array: [[ 0  1  2  3]\n",
      " [ 4  5  6  7]\n",
      " [ 8  9 10 11]\n",
      " [12 13 14 15]]\n",
      "After splitting horizontally:\n",
      "[array([[ 0,  1],\n",
      "       [ 4,  5],\n",
      "       [ 8,  9],\n",
      "       [12, 13]]), array([[ 2,  3],\n",
      "       [ 6,  7],\n",
      "       [10, 11],\n",
      "       [14, 15]]), array([], shape=(4, 0), dtype=int32)]\n"
     ]
    }
   ],
   "source": [
    "x = np.arange(16).reshape((4, 4)) \n",
    "print(\"Original array:\",x) \n",
    "print(\"After splitting horizontally:\") \n",
    "print(np.hsplit(x, [2, 6]))"
   ]
  },
  {
   "cell_type": "code",
   "execution_count": 75,
   "metadata": {},
   "outputs": [
    {
     "name": "stdout",
     "output_type": "stream",
     "text": [
      "Original array:\n",
      "[[0. 0. 0. 0. 0.]\n",
      " [0. 0. 0. 0. 0.]\n",
      " [0. 0. 0. 0. 0.]\n",
      " [0. 0. 0. 0. 0.]\n",
      " [0. 0. 0. 0. 0.]]\n",
      "Row values ranging from 0 to 4.\n",
      "[[0. 1. 2. 3. 4.]\n",
      " [0. 1. 2. 3. 4.]\n",
      " [0. 1. 2. 3. 4.]\n",
      " [0. 1. 2. 3. 4.]\n",
      " [0. 1. 2. 3. 4.]]\n"
     ]
    }
   ],
   "source": [
    "x = np.zeros((5,5)) \n",
    "print(\"Original array:\") \n",
    "print(x) \n",
    "print(\"Row values ranging from 0 to 4.\") \n",
    "x += np.arange(5) \n",
    "print(x)"
   ]
  },
  {
   "cell_type": "code",
   "execution_count": 76,
   "metadata": {},
   "outputs": [
    {
     "name": "stdout",
     "output_type": "stream",
     "text": [
      "[(1, 2., b'Albert Einstein') (2, 2., b'Edmond Halley')\n",
      " (3, 3., b'Gertrude B. Elion')]\n"
     ]
    }
   ],
   "source": [
    "x = np.zeros((3,), dtype=('i4,f4,a40')) \n",
    "new_data = [(1, 2., \"Albert Einstein\"), (2, 2., \"Edmond Halley\"), (3, 3., \"Gertrude B. Elion\")] \n",
    "x[:] = new_data \n",
    "print(x)"
   ]
  },
  {
   "cell_type": "code",
   "execution_count": 77,
   "metadata": {},
   "outputs": [
    {
     "name": "stdout",
     "output_type": "stream",
     "text": [
      "Original array:\n",
      "[-1 -4  0  2  3  4  5 -6]\n",
      "Replace the negative values of the said array with 0:\n",
      "[0 0 0 2 3 4 5 0]\n"
     ]
    }
   ],
   "source": [
    "x = np.array([-1, -4, 0, 2, 3, 4, 5, -6]) \n",
    "print(\"Original array:\") \n",
    "print(x) \n",
    "print(\"Replace the negative values of the said array with 0:\") \n",
    "x[x < 0] = 0 \n",
    "print(x)"
   ]
  },
  {
   "cell_type": "code",
   "execution_count": 78,
   "metadata": {},
   "outputs": [
    {
     "data": {
      "text/plain": [
       "<Figure size 640x480 with 1 Axes>"
      ]
     },
     "metadata": {},
     "output_type": "display_data"
    }
   ],
   "source": [
    "import matplotlib.pyplot as plt \n",
    "\n",
    "plt.hist([1, 2, 1], bins=[0, 1, 2, 3, 5]) \n",
    "plt.show()"
   ]
  },
  {
   "cell_type": "code",
   "execution_count": 79,
   "metadata": {},
   "outputs": [
    {
     "name": "stderr",
     "output_type": "stream",
     "text": [
      "C:\\Users\\srikanth.m\\AppData\\Local\\Continuum\\anaconda3\\lib\\site-packages\\ipykernel_launcher.py:5: UserWarning: Matplotlib is currently using module://ipykernel.pylab.backend_inline, which is a non-GUI backend, so cannot show the figure.\n",
      "  \"\"\"\n"
     ]
    },
    {
     "data": {
      "image/png": "[encoded data removed]",
      "text/plain": [
       "<Figure size 432x288 with 1 Axes>"
      ]
     },
     "metadata": {
      "needs_background": "light"
     },
     "output_type": "display_data"
    }
   ],
   "source": [
    "arr = np.random.randint(1, 50, 10) \n",
    "y, x = np.histogram(arr, bins=np.arange(51)) \n",
    "fig, ax = plt.subplots() \n",
    "ax.plot(x[:-1], y) \n",
    "fig.show()"
   ]
  },
  {
   "cell_type": "code",
   "execution_count": 80,
   "metadata": {},
   "outputs": [
    {
     "name": "stdout",
     "output_type": "stream",
     "text": [
      "Original array:\n",
      "[[ 0  1  2  3]\n",
      " [ 4  5  6  7]\n",
      " [ 8  9 10 11]\n",
      " [12 13 14 15]]\n",
      "\n",
      "Extracted data: Second row\n",
      "[4 5 6 7]\n"
     ]
    }
   ],
   "source": [
    "arra_data = np.arange(0,16).reshape((4, 4)) \n",
    "print(\"Original array:\") \n",
    "print(arra_data) \n",
    "print(\"\\nExtracted data: Second row\") \n",
    "print(arra_data[1,:])"
   ]
  },
  {
   "cell_type": "code",
   "execution_count": 81,
   "metadata": {},
   "outputs": [
    {
     "name": "stdout",
     "output_type": "stream",
     "text": [
      "Original array:\n",
      "[[ 0  1  2  3]\n",
      " [ 4  5  6  7]\n",
      " [ 8  9 10 11]\n",
      " [12 13 14 15]]\n",
      "\n",
      "Extracted data: First element of the second row and fourth element of fourth row  \n",
      "[ 4 15]\n"
     ]
    }
   ],
   "source": [
    "arra_data = np.arange(0,16).reshape((4, 4))\n",
    "print(\"Original array:\") \n",
    "print(arra_data) \n",
    "print(\"\\nExtracted data: First element of the second row and fourth element of fourth row  \") \n",
    "print(arra_data[[1,3], [0,3]])"
   ]
  }
 ],
 "metadata": {
  "kernelspec": {
   "display_name": "Python 3",
   "language": "python",
   "name": "python3"
  }
 },
 "nbformat": 4,
 "nbformat_minor": 2
}
